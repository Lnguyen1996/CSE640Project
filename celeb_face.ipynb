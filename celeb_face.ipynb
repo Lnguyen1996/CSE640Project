{
 "cells": [
  {
   "cell_type": "code",
   "execution_count": 66,
   "metadata": {},
   "outputs": [],
   "source": [
    "import torch\n",
    "from torchvision import datasets, transforms\n",
    "from torch.utils.data import DataLoader \n",
    "import matplotlib.pyplot as plt\n",
    "from torchvision import datasets, transforms\n",
    "from torch.utils.data import DataLoader, Subset \n",
    "import matplotlib.pyplot as plt"
   ]
  },
  {
   "cell_type": "code",
   "execution_count": 67,
   "metadata": {},
   "outputs": [],
   "source": [
    "def accumulate_batch(images):\n",
    "    return images.sum(dim=0)"
   ]
  },
  {
   "cell_type": "code",
   "execution_count": 68,
   "metadata": {},
   "outputs": [
    {
     "name": "stdout",
     "output_type": "stream",
     "text": [
      "Using device: cuda\n"
     ]
    }
   ],
   "source": [
    "# Define transformation for resizing and normalizing images\n",
    "from concurrent.futures import ThreadPoolExecutor\n",
    "import os \n",
    "# Check if GPU is available and set the device\n",
    "device = torch.device(\"cuda\" if torch.cuda.is_available() else \"cpu\")\n",
    "print(f\"Using device: {device}\")"
   ]
  },
  {
   "cell_type": "code",
   "execution_count": 69,
   "metadata": {},
   "outputs": [],
   "source": [
    "# Define transformation for resizing and normalizing images\n",
    "transform = transforms.Compose([\n",
    "    transforms.Resize((128, 128)),\n",
    "    transforms.ToTensor()\n",
    "])\n",
    "\n"
   ]
  },
  {
   "cell_type": "code",
   "execution_count": 70,
   "metadata": {},
   "outputs": [],
   "source": [
    "# Define a collate function to move each batch to GPU\n",
    "def collate_fn(batch):\n",
    "    images, labels = zip(*batch)\n",
    "    images = torch.stack(images).to(device)  # Stack images and move to GPU\n",
    "    labels = torch.tensor(labels).to(device)  # Convert labels to tensor and move to GPU\n",
    "    return images, labels\n"
   ]
  },
  {
   "cell_type": "code",
   "execution_count": 71,
   "metadata": {},
   "outputs": [],
   "source": [
    "# Load the full dataset\n",
    "dataset = datasets.ImageFolder(root=\"./img_align_celeba\", transform=transform)\n",
    "\n",
    "subset = Subset(dataset, range(100000))\n",
    "\n",
    "# Create DataLoader with the custom collate function\n",
    "batch_size = 1024  # Adjust based on your GPU memory\n",
    "dataloader = DataLoader(subset, batch_size=batch_size, shuffle=False, collate_fn=collate_fn)\n"
   ]
  },
  {
   "cell_type": "code",
   "execution_count": null,
   "metadata": {},
   "outputs": [],
   "source": [
    "\n",
    "\n",
    "\n",
    "# Initialize a tensor to accumulate pixel values\n",
    "mean_face = torch.zeros(3, 128, 128, device=device, dtype=torch.float16)  # Use FP16\n",
    "num_images = 0\n",
    "\n",
    "for images, _ in dataloader:\n",
    "    images = images.to(device, dtype=torch.float16)  # Move images to GPU and use FP16 \n",
    "    mean_face += images.sum(dim=0)  # Accumulate pixel sums\n",
    "    num_images += images.size(0)\n",
    "\n",
    "# Compute the average (mean face) by dividing by the number of images\n",
    "mean_face /= num_images\n",
    "\n",
    "# Move the result back to CPU for visualization\n",
    "mean_face_np = mean_face.to(dtype=torch.float32).permute(1, 2, 0).cpu().numpy()\n",
    "\n",
    "# Plot the \"average\" face\n",
    "plt.imshow(mean_face_np)\n",
    "plt.axis('off')\n",
    "plt.title(f'Generic Face (Mean of {num_images} Images)')\n",
    "plt.show()"
   ]
  }
 ],
 "metadata": {
  "kernelspec": {
   "display_name": "Python_3_9",
   "language": "python",
   "name": "python3"
  },
  "language_info": {
   "codemirror_mode": {
    "name": "ipython",
    "version": 3
   },
   "file_extension": ".py",
   "mimetype": "text/x-python",
   "name": "python",
   "nbconvert_exporter": "python",
   "pygments_lexer": "ipython3",
   "version": "3.9.20"
  }
 },
 "nbformat": 4,
 "nbformat_minor": 2
}
